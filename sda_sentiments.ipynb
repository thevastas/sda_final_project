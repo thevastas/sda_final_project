{
  "nbformat": 4,
  "nbformat_minor": 0,
  "metadata": {
    "colab": {
      "name": "sda_sentiments.ipynb",
      "provenance": [],
      "collapsed_sections": []
    },
    "kernelspec": {
      "name": "python3",
      "display_name": "Python 3"
    },
    "language_info": {
      "name": "python"
    },
    "gpuClass": "standard"
  },
  "cells": [
    {
      "cell_type": "code",
      "source": [
        "import pandas as pd \n",
        "import os\n",
        "import gzip\n",
        "import csv\n",
        "import json\n",
        "import gzip\n",
        "import matplotlib.pyplot as plt\n",
        "import numpy as np\n",
        "from textblob import TextBlob\n",
        "import torch\n",
        "\n",
        "device = \"cuda:0\" if torch.cuda.is_available() else \"cpu\"\n",
        "!pip install transformers\n",
        "!pip install Unidecode"
      ],
      "metadata": {
        "id": "77HjdMN6dQvV"
      },
      "execution_count": 1,
      "outputs": []
    },
    {
      "cell_type": "markdown",
      "source": [
        "# Prepare data"
      ],
      "metadata": {
        "id": "xa5eqH2XdIXS"
      }
    },
    {
      "cell_type": "code",
      "execution_count": 2,
      "metadata": {
        "colab": {
          "base_uri": "https://localhost:8080/"
        },
        "id": "8twRJjt4cfWs",
        "outputId": "ed2effa4-8794-46aa-96ce-bd4628f4a4bf"
      },
      "outputs": [
        {
          "output_type": "stream",
          "name": "stdout",
          "text": [
            "Mounted at /content/gdrive\n"
          ]
        }
      ],
      "source": [
        "from google.colab import drive\n",
        "drive.mount ('/content/gdrive')"
      ]
    },
    {
      "cell_type": "code",
      "source": [
        "os.environ ['KAGGLE_CONFIG_DIR']='/content/gdrive/MyDrive/kaggle_dataset'"
      ],
      "metadata": {
        "id": "do-5j96hdTRs"
      },
      "execution_count": 3,
      "outputs": []
    },
    {
      "cell_type": "code",
      "source": [
        "%cd /content/gdrive/MyDrive/kaggle_dataset"
      ],
      "metadata": {
        "id": "wx0h_QKPdV4V",
        "outputId": "c7f1be38-8301-4c0e-dfae-20401e2b78d0",
        "colab": {
          "base_uri": "https://localhost:8080/"
        }
      },
      "execution_count": 4,
      "outputs": [
        {
          "output_type": "stream",
          "name": "stdout",
          "text": [
            "/content/gdrive/MyDrive/kaggle_dataset\n"
          ]
        }
      ]
    },
    {
      "cell_type": "code",
      "source": [
        "! kaggle datasets download -d bwandowando/ukraine-russian-crisis-twitter-dataset-1-2-m-rows"
      ],
      "metadata": {
        "id": "WeDlSDWBdaI1",
        "outputId": "7fc6f494-ca44-45a6-b0f3-95766883e48a",
        "colab": {
          "base_uri": "https://localhost:8080/"
        }
      },
      "execution_count": null,
      "outputs": [
        {
          "output_type": "stream",
          "name": "stdout",
          "text": [
            "ukraine-russian-crisis-twitter-dataset-1-2-m-rows.zip: Skipping, found more recently modified local copy (use --force to force download)\n"
          ]
        }
      ]
    },
    {
      "cell_type": "code",
      "source": [
        "!unzip ukraine-russian-crisis-twitter-dataset-1-2-m-rows.zip"
      ],
      "metadata": {
        "id": "rH0WMpnedgG_",
        "outputId": "0f249f2e-1d99-4545-d4d0-dd2d343e041e",
        "colab": {
          "base_uri": "https://localhost:8080/"
        }
      },
      "execution_count": null,
      "outputs": [
        {
          "output_type": "stream",
          "name": "stdout",
          "text": [
            "Archive:  ukraine-russian-crisis-twitter-dataset-1-2-m-rows.zip\n",
            "replace 0401_UkraineCombinedTweetsDeduped.csv.gzip? [y]es, [n]o, [A]ll, [N]one, [r]ename: N\n"
          ]
        }
      ]
    },
    {
      "cell_type": "markdown",
      "source": [
        "# Sentiment analysis"
      ],
      "metadata": {
        "id": "lGnk5pE-_VDU"
      }
    },
    {
      "cell_type": "code",
      "source": [
        "def preprocess(text):\n",
        "    new_text = []\n",
        " \n",
        " \n",
        "    for t in text.split(\" \"):\n",
        "        t = '@user' if t.startswith('@') and len(t) > 1 else t\n",
        "        t = 'http' if t.startswith('http') else t\n",
        "        new_text.append(t)\n",
        "    return \" \".join(new_text)"
      ],
      "metadata": {
        "id": "XpBjzeNkK2W7"
      },
      "execution_count": 8,
      "outputs": []
    },
    {
      "cell_type": "code",
      "source": [
        "def get_sentiment(tweet):\n",
        "    sentiment = TextBlob(tweet).sentiment\n",
        "    return sentiment.polarity, sentiment.subjectivity"
      ],
      "metadata": {
        "id": "ImI4ZoyQLCTr"
      },
      "execution_count": 9,
      "outputs": []
    },
    {
      "cell_type": "code",
      "source": [
        "#f=gzip.open(\"UkraineCombinedTweetsDeduped_MAR26.csv.gzip\",'rb')\n",
        "#df = pd.read_csv(f,dtype={'coordinates':'str'})"
      ],
      "metadata": {
        "id": "PAQFDbK8_UR2"
      },
      "execution_count": 10,
      "outputs": []
    },
    {
      "cell_type": "code",
      "source": [
        "def get_sentiment_from_file(filename):\n",
        "  f=gzip.open(filename, 'rb')\n",
        "  df = pd.read_csv(f,dtype={'coordinates':'str'})\n",
        "  sentiment_df = df[['tweetid', 'text', 'hashtags', 'language']]\n",
        "  sentiment_df = sentiment_df[sentiment_df['language']=='en']\n",
        "  sentiment_df['hashtags'] = sentiment_df.hashtags.map(lambda x: [i['text'] for i in eval(x)])  # Keeping only hashtags\n",
        "  sentiment_df['text'] = sentiment_df['text'].apply(preprocess)\n",
        "  sentiment_df['sentiment'] = sentiment_df['text'].apply(get_sentiment)\n",
        "  sentiment_df['polarity'] = sentiment_df['sentiment'].apply(lambda x:x[0])\n",
        "  sentiment_df.drop('sentiment', axis=1, inplace=True)\n",
        "  mean_df = sentiment_df['polarity'].mean()\n",
        "  return mean_df"
      ],
      "metadata": {
        "id": "RuT2MG-bKUin"
      },
      "execution_count": 11,
      "outputs": []
    },
    {
      "cell_type": "code",
      "source": [
        "def get_sentiment_from_file_median(filename):\n",
        "  f=gzip.open(filename, 'rb')\n",
        "  df = pd.read_csv(f,dtype={'coordinates':'str'})\n",
        "  sentiment_df = df[['tweetid', 'text', 'hashtags', 'language']]\n",
        "  sentiment_df = sentiment_df[sentiment_df['language']=='en']\n",
        "  sentiment_df['hashtags'] = sentiment_df.hashtags.map(lambda x: [i['text'] for i in eval(x)])  # Keeping only hashtags\n",
        "  sentiment_df['text'] = sentiment_df['text'].apply(preprocess)\n",
        "  sentiment_df['sentiment'] = sentiment_df['text'].apply(get_sentiment)\n",
        "  sentiment_df['polarity'] = sentiment_df['sentiment'].apply(lambda x:x[0])\n",
        "  sentiment_df.drop('sentiment', axis=1, inplace=True)\n",
        "  median_df = sentiment_df['polarity'].median()\n",
        "  return median_df"
      ],
      "metadata": {
        "id": "M1AjNmPr6ZEw"
      },
      "execution_count": 28,
      "outputs": []
    },
    {
      "cell_type": "markdown",
      "source": [
        "TextBlob"
      ],
      "metadata": {
        "id": "Ptkqn0zcA2Jz"
      }
    },
    {
      "cell_type": "code",
      "source": [
        "full_df = []\n",
        "data_list = []\n",
        "#polarity_df = pd.DataFrame(data=None,names=['Filename','Mean'])\n",
        "for root, dirs, files in os.walk(\"/content/gdrive/MyDrive/kaggle_dataset/\"):\n",
        "    for file in files:\n",
        "        if file.startswith(\"05\"):\n",
        "        #if \"MAR\" in file:\n",
        "            print(f\"Current file:{file}\")\n",
        "            polarity_mean = get_sentiment_from_file(file)\n",
        "            data_list.append([file, polarity_mean])\n",
        "full_polarity_df = pd.DataFrame(data_list)\n",
        "full_polarity_df.to_csv(\"polarity_05_median.csv\", index=False)"
      ],
      "metadata": {
        "colab": {
          "base_uri": "https://localhost:8080/"
        },
        "id": "4O_S2Tm7DIsH",
        "outputId": "505c41e7-2d7d-4e08-cad9-4c5ea80ac643"
      },
      "execution_count": 30,
      "outputs": [
        {
          "output_type": "stream",
          "name": "stdout",
          "text": [
            "Current file:0501_UkraineCombinedTweetsDeduped.csv.gzip\n",
            "Current file:0502_UkraineCombinedTweetsDeduped.csv.gzip\n",
            "Current file:0503_UkraineCombinedTweetsDeduped.csv.gzip\n",
            "Current file:0504_UkraineCombinedTweetsDeduped.csv.gzip\n",
            "Current file:0505_to_0507_UkraineCombinedTweetsDeduped.csv.gzip\n",
            "Current file:0508_UkraineCombinedTweetsDeduped.csv.gzip\n",
            "Current file:0509_UkraineCombinedTweetsDeduped.csv.gzip\n",
            "Current file:0510_UkraineCombinedTweetsDeduped.csv.gzip\n",
            "Current file:0511_UkraineCombinedTweetsDeduped.csv.gzip\n",
            "Current file:0512_UkraineCombinedTweetsDeduped.csv.gzip\n",
            "Current file:0513_UkraineCombinedTweetsDeduped.csv.gzip\n",
            "Current file:0514_UkraineCombinedTweetsDeduped.csv.gzip\n",
            "Current file:0515_UkraineCombinedTweetsDeduped.csv.gzip\n",
            "Current file:0516_UkraineCombinedTweetsDeduped.csv.gzip\n",
            "Current file:0517_UkraineCombinedTweetsDeduped.csv.gzip\n",
            "Current file:0518_UkraineCombinedTweetsDeduped.csv.gzip\n",
            "Current file:0519_UkraineCombinedTweetsDeduped.csv.gzip\n",
            "Current file:0520_UkraineCombinedTweetsDeduped.csv.gzip\n",
            "Current file:0521_UkraineCombinedTweetsDeduped.csv.gzip\n",
            "Current file:0522_UkraineCombinedTweetsDeduped.csv.gzip\n",
            "Current file:0523_UkraineCombinedTweetsDeduped.csv.gzip\n",
            "Current file:0524_UkraineCombinedTweetsDeduped.csv.gzip\n",
            "Current file:0525_UkraineCombinedTweetsDeduped.csv.gzip\n",
            "Current file:0526_UkraineCombinedTweetsDeduped.csv.gzip\n",
            "Current file:0527_UkraineCombinedTweetsDeduped.csv.gzip\n",
            "Current file:0528_UkraineCombinedTweetsDeduped.csv.gzip\n",
            "Current file:0529_UkraineCombinedTweetsDeduped.csv.gzip\n",
            "Current file:0530_UkraineCombinedTweetsDeduped.csv.gzip\n",
            "Current file:0531_UkraineCombinedTweetsDeduped.csv.gzip\n"
          ]
        }
      ]
    },
    {
      "cell_type": "code",
      "source": [
        "print(data_list)"
      ],
      "metadata": {
        "colab": {
          "base_uri": "https://localhost:8080/"
        },
        "id": "iHzSeBQOPW7c",
        "outputId": "7f2b8b8c-e901-4e86-860f-b7b6fcc660be"
      },
      "execution_count": 31,
      "outputs": [
        {
          "output_type": "stream",
          "name": "stdout",
          "text": [
            "[['0501_UkraineCombinedTweetsDeduped.csv.gzip', 0.05055330423986192], ['0502_UkraineCombinedTweetsDeduped.csv.gzip', 0.05178920340551566], ['0503_UkraineCombinedTweetsDeduped.csv.gzip', 0.0505750563855955], ['0504_UkraineCombinedTweetsDeduped.csv.gzip', 0.07318636009225755], ['0505_to_0507_UkraineCombinedTweetsDeduped.csv.gzip', 0.08877025433726062], ['0508_UkraineCombinedTweetsDeduped.csv.gzip', 0.08159490558236669], ['0509_UkraineCombinedTweetsDeduped.csv.gzip', 0.07401171050548916], ['0510_UkraineCombinedTweetsDeduped.csv.gzip', 0.0634907976890543], ['0511_UkraineCombinedTweetsDeduped.csv.gzip', 0.07122552729493886], ['0512_UkraineCombinedTweetsDeduped.csv.gzip', 0.06953353828431369], ['0513_UkraineCombinedTweetsDeduped.csv.gzip', 0.06256227523853854], ['0514_UkraineCombinedTweetsDeduped.csv.gzip', 0.0917548819490514], ['0515_UkraineCombinedTweetsDeduped.csv.gzip', 0.0997436256547683], ['0516_UkraineCombinedTweetsDeduped.csv.gzip', 0.0785295697917196], ['0517_UkraineCombinedTweetsDeduped.csv.gzip', 0.06445273511265481], ['0518_UkraineCombinedTweetsDeduped.csv.gzip', 0.06981633435663634], ['0519_UkraineCombinedTweetsDeduped.csv.gzip', 0.07451975382977295], ['0520_UkraineCombinedTweetsDeduped.csv.gzip', 0.06947040628731636], ['0521_UkraineCombinedTweetsDeduped.csv.gzip', 0.06105385999729314], ['0522_UkraineCombinedTweetsDeduped.csv.gzip', 0.0777329251289287], ['0523_UkraineCombinedTweetsDeduped.csv.gzip', 0.08492587132046193], ['0524_UkraineCombinedTweetsDeduped.csv.gzip', 0.07513786338295837], ['0525_UkraineCombinedTweetsDeduped.csv.gzip', 0.06066398054516685], ['0526_UkraineCombinedTweetsDeduped.csv.gzip', 0.06531478775959879], ['0527_UkraineCombinedTweetsDeduped.csv.gzip', 0.0702914077084397], ['0528_UkraineCombinedTweetsDeduped.csv.gzip', 0.06313403788315682], ['0529_UkraineCombinedTweetsDeduped.csv.gzip', 0.07535771294766579], ['0530_UkraineCombinedTweetsDeduped.csv.gzip', 0.07953475961389682], ['0531_UkraineCombinedTweetsDeduped.csv.gzip', 0.06345387077905547]]\n"
          ]
        }
      ]
    },
    {
      "cell_type": "code",
      "source": [
        "list_df = pd.DataFrame(data_list)"
      ],
      "metadata": {
        "id": "ca9X7rrGcPKf"
      },
      "execution_count": 32,
      "outputs": []
    },
    {
      "cell_type": "code",
      "source": [
        "print(list_df)"
      ],
      "metadata": {
        "colab": {
          "base_uri": "https://localhost:8080/"
        },
        "id": "6HLRjLQ8cp2G",
        "outputId": "4b68f787-378e-432e-a9fc-0ce697ba418d"
      },
      "execution_count": 33,
      "outputs": [
        {
          "output_type": "stream",
          "name": "stdout",
          "text": [
            "                                                    0         1\n",
            "0          0501_UkraineCombinedTweetsDeduped.csv.gzip  0.050553\n",
            "1          0502_UkraineCombinedTweetsDeduped.csv.gzip  0.051789\n",
            "2          0503_UkraineCombinedTweetsDeduped.csv.gzip  0.050575\n",
            "3          0504_UkraineCombinedTweetsDeduped.csv.gzip  0.073186\n",
            "4   0505_to_0507_UkraineCombinedTweetsDeduped.csv....  0.088770\n",
            "5          0508_UkraineCombinedTweetsDeduped.csv.gzip  0.081595\n",
            "6          0509_UkraineCombinedTweetsDeduped.csv.gzip  0.074012\n",
            "7          0510_UkraineCombinedTweetsDeduped.csv.gzip  0.063491\n",
            "8          0511_UkraineCombinedTweetsDeduped.csv.gzip  0.071226\n",
            "9          0512_UkraineCombinedTweetsDeduped.csv.gzip  0.069534\n",
            "10         0513_UkraineCombinedTweetsDeduped.csv.gzip  0.062562\n",
            "11         0514_UkraineCombinedTweetsDeduped.csv.gzip  0.091755\n",
            "12         0515_UkraineCombinedTweetsDeduped.csv.gzip  0.099744\n",
            "13         0516_UkraineCombinedTweetsDeduped.csv.gzip  0.078530\n",
            "14         0517_UkraineCombinedTweetsDeduped.csv.gzip  0.064453\n",
            "15         0518_UkraineCombinedTweetsDeduped.csv.gzip  0.069816\n",
            "16         0519_UkraineCombinedTweetsDeduped.csv.gzip  0.074520\n",
            "17         0520_UkraineCombinedTweetsDeduped.csv.gzip  0.069470\n",
            "18         0521_UkraineCombinedTweetsDeduped.csv.gzip  0.061054\n",
            "19         0522_UkraineCombinedTweetsDeduped.csv.gzip  0.077733\n",
            "20         0523_UkraineCombinedTweetsDeduped.csv.gzip  0.084926\n",
            "21         0524_UkraineCombinedTweetsDeduped.csv.gzip  0.075138\n",
            "22         0525_UkraineCombinedTweetsDeduped.csv.gzip  0.060664\n",
            "23         0526_UkraineCombinedTweetsDeduped.csv.gzip  0.065315\n",
            "24         0527_UkraineCombinedTweetsDeduped.csv.gzip  0.070291\n",
            "25         0528_UkraineCombinedTweetsDeduped.csv.gzip  0.063134\n",
            "26         0529_UkraineCombinedTweetsDeduped.csv.gzip  0.075358\n",
            "27         0530_UkraineCombinedTweetsDeduped.csv.gzip  0.079535\n",
            "28         0531_UkraineCombinedTweetsDeduped.csv.gzip  0.063454\n"
          ]
        }
      ]
    }
  ]
}